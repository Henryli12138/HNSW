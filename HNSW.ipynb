{
  "nbformat": 4,
  "nbformat_minor": 0,
  "metadata": {
    "colab": {
      "provenance": [],
      "collapsed_sections": [
        "CyX0vM52Da7m",
        "q8Ejm4XJDxi8",
        "5mzE4DjGEYSO",
        "gy2kmY0vE0p9",
        "P38kD9ZVk-h3"
      ]
    },
    "kernelspec": {
      "name": "python3",
      "display_name": "Python 3"
    },
    "language_info": {
      "name": "python"
    }
  },
  "cells": [
    {
      "cell_type": "code",
      "execution_count": null,
      "metadata": {
        "colab": {
          "base_uri": "https://localhost:8080/"
        },
        "id": "y3VwGNUOe_r-",
        "outputId": "beec4feb-3a3a-4913-eb9c-0059dbd529e5"
      },
      "outputs": [
        {
          "output_type": "stream",
          "name": "stdout",
          "text": [
            "Downloading data from https://storage.googleapis.com/tensorflow/tf-keras-datasets/mnist.npz\n",
            "11490434/11490434 [==============================] - 0s 0us/step\n",
            "x_train: (60000, 28, 28)\n",
            "y_train: (60000,)\n",
            "x_test:  (10000, 28, 28)\n",
            "y_test:  (10000,)\n"
          ]
        }
      ],
      "source": [
        "import keras\n",
        "from keras.datasets import mnist\n",
        "(train_x, train_y), (test_x, test_y) = mnist.load_data()\n",
        "\n",
        "print('x_train: ' + str(train_x.shape))\n",
        "print('y_train: ' + str(train_y.shape))\n",
        "print('x_test:  '  + str(test_x.shape))\n",
        "print('y_test:  '  + str(test_y.shape))"
      ]
    },
    {
      "cell_type": "markdown",
      "source": [
        "\n",
        "##setup"
      ],
      "metadata": {
        "id": "CyX0vM52Da7m"
      }
    },
    {
      "cell_type": "code",
      "source": [
        "import numpy as np\n",
        "import tensorflow as tf\n",
        "from tensorflow import keras\n",
        "from tensorflow.keras import layers, Sequential"
      ],
      "metadata": {
        "id": "NKTf9HT0DQQS"
      },
      "execution_count": null,
      "outputs": []
    },
    {
      "cell_type": "code",
      "source": [
        "num_classes = 10\n",
        "input_shape = (28, 28, 1)\n",
        "\n",
        "(x_train, y_train), (x_test, y_test) = keras.datasets.mnist.load_data()\n",
        "x_train, x_test = tf.expand_dims(x_train, axis = -1), tf.expand_dims(x_test, axis = -1)"
      ],
      "metadata": {
        "id": "_MHIhPekDT6B"
      },
      "execution_count": null,
      "outputs": []
    },
    {
      "cell_type": "code",
      "source": [
        "weight_decay = 5e-4\n",
        "batch_size = 512\n",
        "num_epochs = 30\n",
        "dropout_rate = 0.0375\n",
        "image_size = 56\n",
        "patch_size = 7\n",
        "num_patches = (image_size // patch_size) ** 2\n",
        "embedding_dim = 100\n",
        "num_blocks = 2"
      ],
      "metadata": {
        "id": "aDFRj3WKDjlS"
      },
      "execution_count": null,
      "outputs": []
    },
    {
      "cell_type": "markdown",
      "source": [
        "##model wrapper"
      ],
      "metadata": {
        "id": "q8Ejm4XJDxi8"
      }
    },
    {
      "cell_type": "code",
      "source": [
        "\n",
        "def build_classifier(blocks, positional_encoding=False):\n",
        "    inputs = layers.Input(shape=input_shape)\n",
        "    augmented = data_augmentation(inputs)\n",
        "    patches = Patches(patch_size, num_patches)(augmented)\n",
        "    x = layers.Dense(embedding_dim)(patches)\n",
        "    if positional_encoding:\n",
        "        x = RoPE()(x)\n",
        "    x = blocks(x)\n",
        "    x = layers.GlobalAveragePooling1D()(x)\n",
        "    x = layers.Dropout(dropout_rate)(x)\n",
        "    logits = layers.Dense(num_classes)(x)\n",
        "    return keras.Model(inputs=inputs, outputs=logits)"
      ],
      "metadata": {
        "id": "NpBibtX9DzjF"
      },
      "execution_count": null,
      "outputs": []
    },
    {
      "cell_type": "code",
      "source": [
        "\n",
        "def run_experiment(model):\n",
        "    optimizer = tf.keras.optimizers.Adam(\n",
        "        learning_rate=learning_rate, weight_decay=weight_decay, clipvalue=1.\n",
        "    )\n",
        "\n",
        "    model.compile(\n",
        "        optimizer=optimizer,\n",
        "        loss=keras.losses.SparseCategoricalCrossentropy(from_logits=True),\n",
        "        metrics=[\n",
        "            keras.metrics.SparseCategoricalAccuracy(name=\"acc\"),\n",
        "            keras.metrics.SparseTopKCategoricalAccuracy(5, name=\"top5-acc\"),\n",
        "        ],\n",
        "    )\n",
        "    print(model.summary())\n",
        "    # learning rate scheduler callback.\n",
        "    reduce_lr = keras.callbacks.ReduceLROnPlateau(\n",
        "        monitor=\"val_loss\", factor=0.5, patience=5\n",
        "    )\n",
        "    # Create an early stopping callback.\n",
        "    early_stopping = tf.keras.callbacks.EarlyStopping(\n",
        "        monitor = \"val_acc\", patience=10, restore_best_weights=True\n",
        "    )\n",
        "\n",
        "    history = model.fit(\n",
        "        x = x_train,\n",
        "        y = y_train,\n",
        "        batch_size = batch_size,\n",
        "        epochs = num_epochs,\n",
        "        validation_split = 0.1,\n",
        "        callbacks=[early_stopping, reduce_lr],\n",
        "    )\n",
        "\n",
        "    _, accuracy, top_5_accuracy = model.evaluate(x_test, y_test)\n",
        "    print(f\"Test accuracy: {round(accuracy * 100, 2)}%\")\n",
        "    print(f\"Test top 5 accuracy: {round(top_5_accuracy * 100, 2)}%\")\n",
        "    return history"
      ],
      "metadata": {
        "id": "Y25V07coD3dq"
      },
      "execution_count": null,
      "outputs": []
    },
    {
      "cell_type": "code",
      "source": [
        "data_augmentation = keras.Sequential(\n",
        "    [\n",
        "        layers.Normalization(),\n",
        "        layers.Resizing(image_size, image_size),\n",
        "        layers.RandomFlip(\"horizontal\"),\n",
        "        layers.RandomZoom(\n",
        "            height_factor=0.2, width_factor=0.2\n",
        "        ),\n",
        "    ],\n",
        "    name=\"data_augmentation\",\n",
        ")\n",
        "data_augmentation.layers[0].adapt(x_train)"
      ],
      "metadata": {
        "id": "W-uM75T0D_88"
      },
      "execution_count": null,
      "outputs": []
    },
    {
      "cell_type": "code",
      "source": [
        "@tf.keras.utils.register_keras_serializable()\n",
        "class Patches(layers.Layer):\n",
        "    def __init__(self, patch_size, num_patches):\n",
        "        super().__init__(name = 'patches')\n",
        "        self.patch_size = patch_size\n",
        "        self.num_patches = num_patches\n",
        "\n",
        "    def call(self, images):\n",
        "        batch_size = tf.shape(images)[0]\n",
        "        patches = tf.image.extract_patches(\n",
        "            images=images,\n",
        "            sizes=[1, self.patch_size, self.patch_size, 1],\n",
        "            strides=[1, self.patch_size, self.patch_size, 1],\n",
        "            rates=[1, 1, 1, 1],\n",
        "            padding=\"VALID\",\n",
        "        )\n",
        "        patch_dims = patches.shape[-1]\n",
        "        patches = tf.reshape(patches, [batch_size, self.num_patches, patch_dims])\n",
        "        return patches"
      ],
      "metadata": {
        "id": "12O26FewEGW3"
      },
      "execution_count": null,
      "outputs": []
    },
    {
      "cell_type": "code",
      "source": [
        "class RoPE(layers.Layer):\n",
        "  def __init__(self, dim = 1, *args, **kwargs):\n",
        "    super(RoPE, self).__init__(*args, **kwargs)\n",
        "    self.dim = dim\n",
        "\n",
        "  def call(self, x):\n",
        "    shape = x.shape\n",
        "    spatial_shape = [shape[self.dim]]\n",
        "    total_len = 1\n",
        "    for i in spatial_shape:\n",
        "      total_len *= i\n",
        "    position = tf.reshape(np.arange(total_len, dtype=float), spatial_shape)\n",
        "\n",
        "    for i in range(self.dim + 1, len(shape) - 1, 1):\n",
        "      position = tf.expand_dims(position, axis =-1)\n",
        "\n",
        "    half_size = shape[-1] // 2\n",
        "    freq_seq = -np.arange(half_size, dtype=float) / float(half_size)\n",
        "    inv_freq = 10000 ** -freq_seq\n",
        "    sinusoid = tf.einsum(\"...,d->...d\", position, inv_freq)\n",
        "    sin = tf.cast(tf.sin(sinusoid), tf.float32)\n",
        "    cos = tf.cast(tf.cos(sinusoid), tf.float32)\n",
        "\n",
        "    x1, x2 = tf.split(x, 2, axis = -1)\n",
        "    return tf.concat([x1 * cos - x2 * sin, x2 * cos + x1 * sin], axis =-1)"
      ],
      "metadata": {
        "id": "oGCszDNvERtz"
      },
      "execution_count": null,
      "outputs": []
    },
    {
      "cell_type": "markdown",
      "source": [
        "##functioning block"
      ],
      "metadata": {
        "id": "5mzE4DjGEYSO"
      }
    },
    {
      "cell_type": "code",
      "source": [
        "@tf.keras.utils.register_keras_serializable()\n",
        "class tinyGMLP(layers.Layer):\n",
        "  def __init__(self, seq_len = num_patches, features = embedding_dim, *args, **kwargs):\n",
        "    super(tinyGMLP, self).__init__(*args, **kwargs)\n",
        "    self.norm_in = layers.LayerNormalization()\n",
        "    self.norm = layers.LayerNormalization()\n",
        "    self.expand = layers.Dense(2 * features, activation = 'gelu', use_bias = False)\n",
        "    self.w = self.add_weight(shape = (seq_len), initializer = \"zeros\", trainable = True)\n",
        "    self.b = self.add_weight(shape = (seq_len, features), initializer = \"ones\", trainable = True)\n",
        "    self.proj = layers.Dense(features)\n",
        "\n",
        "  def call(self, x):\n",
        "    u, v = tf.split(self.expand(self.norm_in(x)), 2, -1)\n",
        "    v = tf.einsum('...sf,s->...sf', self.norm(v), self.w) + self.b\n",
        "    return self.proj(u * v ) + x\n",
        "\n",
        "blocks = Sequential([\n",
        "  Sequential([tinyGMLP() for _ in range(num_blocks)]),\n",
        "  layers.BatchNormalization(),\n",
        "  layers.Dense(embedding_dim//4),\n",
        "  layers.EinsumDense('...sf,sd->...df', (num_patches//4, embedding_dim//4)),\n",
        "  Sequential([tinyGMLP(num_patches//4, embedding_dim//4) for _ in range(num_blocks)])\n",
        "])"
      ],
      "metadata": {
        "id": "gV66cGqMEl-D"
      },
      "execution_count": null,
      "outputs": []
    },
    {
      "cell_type": "markdown",
      "source": [
        "##training"
      ],
      "metadata": {
        "id": "gy2kmY0vE0p9"
      }
    },
    {
      "cell_type": "code",
      "source": [
        "\"\"\"learning_rate = 0.005\n",
        "classifier = build_classifier(blocks)\n",
        "history = run_experiment(classifier)\"\"\""
      ],
      "metadata": {
        "colab": {
          "base_uri": "https://localhost:8080/",
          "height": 1000
        },
        "id": "VrwFPDHzE7bp",
        "outputId": "34667a6d-3017-418f-f23c-baaf05f2ea57"
      },
      "execution_count": null,
      "outputs": [
        {
          "output_type": "execute_result",
          "data": {
            "text/plain": [
              "'learning_rate = 0.005\\nclassifier = build_classifier(blocks)\\nhistory = run_experiment(classifier)'"
            ],
            "application/vnd.google.colaboratory.intrinsic+json": {
              "type": "string"
            }
          },
          "metadata": {},
          "execution_count": 11
        }
      ]
    },
    {
      "cell_type": "code",
      "source": [
        "#classifier.save(\"mnist_model.keras\")"
      ],
      "metadata": {
        "id": "zt6gAWCePMw_"
      },
      "execution_count": null,
      "outputs": []
    },
    {
      "cell_type": "markdown",
      "source": [
        "##applying"
      ],
      "metadata": {
        "id": "UtANLtsyFRVQ"
      }
    },
    {
      "cell_type": "code",
      "source": [
        "classifier = keras.saving.load_model(\"mnist_model.keras\")"
      ],
      "metadata": {
        "id": "wrj12I-GPaQN"
      },
      "execution_count": null,
      "outputs": []
    },
    {
      "cell_type": "code",
      "source": [
        "#create feature vector\n",
        "\n",
        "#X_train\n",
        "vector_train1 = classifier(x_train[:3750])\n",
        "vector_train2 = classifier(x_train[3750:7500])\n",
        "vector_train3 = classifier(x_train[7500:15000])\n",
        "vector_train4 = classifier(x_train[15000:30000])\n",
        "vector_train5 = classifier(x_train[30000:])\n",
        "\n",
        "vector_train2 = tf.concat([vector_train1, vector_train2], axis = 0)\n",
        "vector_train3 = tf.concat([vector_train2, vector_train3], axis = 0)\n",
        "vector_train4 = tf.concat([vector_train3, vector_train4], axis = 0)\n",
        "vector_train5 = tf.concat([vector_train4, vector_train5], axis = 0)\n",
        "\n",
        "#y_train\n",
        "y_train1 = y_train[:3750]\n",
        "y_train2 = y_train[:7500]\n",
        "y_train3 = y_train[:15000]\n",
        "y_train4 = y_train[:30000]\n",
        "y_train5 = y_train\n",
        "\n",
        "#X_test\n",
        "vector_test1 = classifier(x_test[:625])\n",
        "vector_test2 = classifier(x_test[625:1250])\n",
        "vector_test3 = classifier(x_test[1250:2500])\n",
        "vector_test4 = classifier(x_test[2500:5000])\n",
        "vector_test5 = classifier(x_test[5000:])\n",
        "\n",
        "vector_test2 = tf.concat([vector_test1, vector_test2], axis = 0)\n",
        "vector_test3 = tf.concat([vector_test2, vector_test3], axis = 0)\n",
        "vector_test4 = tf.concat([vector_test3, vector_test4], axis = 0)\n",
        "vector_test5 = tf.concat([vector_test4, vector_test5], axis = 0)\n",
        "\n",
        "#y_test\n",
        "y_test1 = y_test[:625]\n",
        "y_test2 = y_test[:1250]\n",
        "y_test3 = y_test[:2500]\n",
        "y_test4 = y_test[:5000]\n",
        "y_test5 = y_test\n",
        "\n",
        "\n",
        "vector_test = classifier(x_test)\n",
        "#example for dealing with testing data\n",
        "##lookup_vector_to_pixel = dict([(vector_test[_], x_test[_]) for _ in range(len(x_test))])\n",
        "##lookup_pixel_to_class = dict([(x_test[_], y_test[_]) for _ in range(len(x_test))])\n",
        "\n",
        "#now we can construct a graph with the features extracted\n",
        "#and look up for the class to check if it's correct"
      ],
      "metadata": {
        "id": "7tcnHGDeFU-4"
      },
      "execution_count": null,
      "outputs": []
    },
    {
      "cell_type": "code",
      "source": [
        "vector_train1.shape"
      ],
      "metadata": {
        "colab": {
          "base_uri": "https://localhost:8080/"
        },
        "id": "8DtDB7wesvjU",
        "outputId": "8d48a06d-1f84-4a4a-c033-76714d5ff31a"
      },
      "execution_count": null,
      "outputs": [
        {
          "output_type": "execute_result",
          "data": {
            "text/plain": [
              "TensorShape([3750, 10])"
            ]
          },
          "metadata": {},
          "execution_count": 36
        }
      ]
    },
    {
      "cell_type": "markdown",
      "source": [
        "###Access the accuracy of the extraction"
      ],
      "metadata": {
        "id": "P38kD9ZVk-h3"
      }
    },
    {
      "cell_type": "code",
      "source": [
        "\n",
        "#softmax to convert the number into [0,1]\n",
        "v = layers.Activation('softmax')(vector_test)\n",
        "\n",
        "#find the largest features, which indicates which class it belongs to\n",
        "v = [np.argmax(v[_]) for _ in range(len(v))]\n",
        "v = np.array(v)\n",
        "\n",
        "#if same class, then have 1\n",
        "acc = [v[_]==y_test[_] for _ in range(len(v))]\n",
        "np.sum(np.array(acc))/len(acc)"
      ],
      "metadata": {
        "id": "W5_WBW5riuT6",
        "colab": {
          "base_uri": "https://localhost:8080/"
        },
        "outputId": "3ba08582-f0ac-45da-ddcd-23cd27095ce0"
      },
      "execution_count": null,
      "outputs": [
        {
          "output_type": "execute_result",
          "data": {
            "text/plain": [
              "0.9864"
            ]
          },
          "metadata": {},
          "execution_count": 16
        }
      ]
    },
    {
      "cell_type": "markdown",
      "source": [
        "# HNSW"
      ],
      "metadata": {
        "id": "N8FrK-yhJsKu"
      }
    },
    {
      "cell_type": "code",
      "source": [
        "Build_size = [3750, 6250, 15000, 30000, 60000]\n",
        "Query_size = [625, 1250, 2500, 5000, 10000]\n",
        "Build_time = []\n",
        "Query_time = []\n",
        "Accuracy = []"
      ],
      "metadata": {
        "id": "-9YdwZQViW9p"
      },
      "execution_count": null,
      "outputs": []
    },
    {
      "cell_type": "code",
      "source": [
        "!pip install hnswlib"
      ],
      "metadata": {
        "colab": {
          "base_uri": "https://localhost:8080/"
        },
        "id": "GkKv3troPWl0",
        "outputId": "6ab524e3-724b-4518-96d9-3dc982ed2014"
      },
      "execution_count": null,
      "outputs": [
        {
          "output_type": "stream",
          "name": "stdout",
          "text": [
            "Collecting hnswlib\n",
            "  Downloading hnswlib-0.7.0.tar.gz (33 kB)\n",
            "  Installing build dependencies ... \u001b[?25l\u001b[?25hdone\n",
            "  Getting requirements to build wheel ... \u001b[?25l\u001b[?25hdone\n",
            "  Preparing metadata (pyproject.toml) ... \u001b[?25l\u001b[?25hdone\n",
            "Requirement already satisfied: numpy in /usr/local/lib/python3.10/dist-packages (from hnswlib) (1.23.5)\n",
            "Building wheels for collected packages: hnswlib\n",
            "  Building wheel for hnswlib (pyproject.toml) ... \u001b[?25l\u001b[?25hdone\n",
            "  Created wheel for hnswlib: filename=hnswlib-0.7.0-cp310-cp310-linux_x86_64.whl size=2203254 sha256=5a4082b659a3634ad2bf7a068a57eb43f22ef88ec6ec011ae29e8a6108866c72\n",
            "  Stored in directory: /root/.cache/pip/wheels/8a/ae/ec/235a682e0041fbaeee389843670581ec6c66872db856dfa9a4\n",
            "Successfully built hnswlib\n",
            "Installing collected packages: hnswlib\n",
            "Successfully installed hnswlib-0.7.0\n"
          ]
        }
      ]
    },
    {
      "cell_type": "code",
      "source": [
        "import hnswlib\n",
        "import numpy as np"
      ],
      "metadata": {
        "id": "GGae8TJQJrnx"
      },
      "execution_count": null,
      "outputs": []
    },
    {
      "cell_type": "code",
      "source": [
        "import timeit"
      ],
      "metadata": {
        "id": "DQUyeCZSARtd"
      },
      "execution_count": null,
      "outputs": []
    },
    {
      "cell_type": "code",
      "source": [
        "labels=[]"
      ],
      "metadata": {
        "id": "iEVWzEjM-eIy"
      },
      "execution_count": null,
      "outputs": []
    },
    {
      "cell_type": "markdown",
      "source": [
        "## Train, test 1 (3750, 625)"
      ],
      "metadata": {
        "id": "_S3O1DarwY1L"
      }
    },
    {
      "cell_type": "code",
      "source": [
        "%%timeit -o\n",
        "p = hnswlib.Index(space = 'l2', dim = 10)\n",
        "p.init_index(max_elements = 60000, M = 16, ef_construction = 500, random_seed = 100, allow_replace_deleted = False)\n",
        "p.set_ef(50)\n",
        "p.set_num_threads(4)\n",
        "p.add_items(vector_train1, y_train1)"
      ],
      "metadata": {
        "id": "ojwDPKu2RHnr",
        "colab": {
          "base_uri": "https://localhost:8080/"
        },
        "outputId": "27ec4440-bfe7-4596-e29e-8c19b077e8b5"
      },
      "execution_count": null,
      "outputs": [
        {
          "output_type": "stream",
          "name": "stdout",
          "text": [
            "29.7 ms ± 6.61 ms per loop (mean ± std. dev. of 7 runs, 10 loops each)\n"
          ]
        },
        {
          "output_type": "execute_result",
          "data": {
            "text/plain": [
              "<TimeitResult : 29.7 ms ± 6.61 ms per loop (mean ± std. dev. of 7 runs, 10 loops each)>"
            ]
          },
          "metadata": {},
          "execution_count": 48
        }
      ]
    },
    {
      "cell_type": "code",
      "source": [
        "Build_time.append(_.average)"
      ],
      "metadata": {
        "id": "d5EBpOR9i89X"
      },
      "execution_count": null,
      "outputs": []
    },
    {
      "cell_type": "code",
      "source": [
        "%%timeit -o\n",
        "labels, distances = p.knn_query(vector_test1, k = 1)"
      ],
      "metadata": {
        "id": "ackkp8xPilrf",
        "colab": {
          "base_uri": "https://localhost:8080/"
        },
        "outputId": "2d052b49-979d-4ed8-af94-1307531edc86"
      },
      "execution_count": null,
      "outputs": [
        {
          "output_type": "stream",
          "name": "stdout",
          "text": [
            "614 µs ± 107 µs per loop (mean ± std. dev. of 7 runs, 1000 loops each)\n"
          ]
        },
        {
          "output_type": "execute_result",
          "data": {
            "text/plain": [
              "<TimeitResult : 614 µs ± 107 µs per loop (mean ± std. dev. of 7 runs, 1000 loops each)>"
            ]
          },
          "metadata": {},
          "execution_count": 50
        }
      ]
    },
    {
      "cell_type": "code",
      "source": [
        "Query_time.append(_.average)"
      ],
      "metadata": {
        "id": "8nQoK1CqjL_J"
      },
      "execution_count": null,
      "outputs": []
    },
    {
      "cell_type": "code",
      "source": [
        "v = labels\n",
        "acc = [v[_]==y_test1[_] for _ in range(len(v))]\n",
        "acc = np.sum(np.array(acc))/len(acc)\n",
        "print(f\"accuracy: {acc}\")"
      ],
      "metadata": {
        "colab": {
          "base_uri": "https://localhost:8080/"
        },
        "id": "0z99ju3ciRGP",
        "outputId": "b94c7cfd-6e5b-4d1c-8005-51b4ddfbd73d"
      },
      "execution_count": null,
      "outputs": [
        {
          "output_type": "stream",
          "name": "stdout",
          "text": [
            "accuracy: 0.9024\n"
          ]
        }
      ]
    },
    {
      "cell_type": "code",
      "source": [
        "Accuracy.append(acc)"
      ],
      "metadata": {
        "id": "VIE4F73KCw7f"
      },
      "execution_count": null,
      "outputs": []
    },
    {
      "cell_type": "markdown",
      "source": [
        "## Train, test 2 (7500, 1250)"
      ],
      "metadata": {
        "id": "LjVuy6ECwjj6"
      }
    },
    {
      "cell_type": "code",
      "source": [
        "%%timeit -o\n",
        "p = hnswlib.Index(space = 'l2', dim = 10)\n",
        "p.init_index(max_elements = 60000, M = 16, ef_construction = 500, random_seed = 100, allow_replace_deleted = False)\n",
        "p.set_ef(50)\n",
        "p.set_num_threads(4)\n",
        "p.add_items(vector_train2, y_train2)"
      ],
      "metadata": {
        "id": "xtM3ox4yxhsI",
        "colab": {
          "base_uri": "https://localhost:8080/"
        },
        "outputId": "5d4530a6-9cf1-48da-dd87-6b50946be4a4"
      },
      "execution_count": null,
      "outputs": [
        {
          "output_type": "stream",
          "name": "stdout",
          "text": [
            "49.6 ms ± 904 µs per loop (mean ± std. dev. of 7 runs, 10 loops each)\n"
          ]
        },
        {
          "output_type": "execute_result",
          "data": {
            "text/plain": [
              "<TimeitResult : 49.6 ms ± 904 µs per loop (mean ± std. dev. of 7 runs, 10 loops each)>"
            ]
          },
          "metadata": {},
          "execution_count": 53
        }
      ]
    },
    {
      "cell_type": "code",
      "source": [
        "Build_time.append(_.average)"
      ],
      "metadata": {
        "id": "psD08l3Bxm3_"
      },
      "execution_count": null,
      "outputs": []
    },
    {
      "cell_type": "code",
      "source": [
        "%%timeit -o\n",
        "labels, distances = p.knn_query(vector_test2, k = 1)"
      ],
      "metadata": {
        "id": "ObxkjY2Yxo1C",
        "colab": {
          "base_uri": "https://localhost:8080/"
        },
        "outputId": "529cfafd-8e02-4978-cfe9-596320f07604"
      },
      "execution_count": null,
      "outputs": [
        {
          "output_type": "stream",
          "name": "stdout",
          "text": [
            "992 µs ± 6.83 µs per loop (mean ± std. dev. of 7 runs, 1000 loops each)\n"
          ]
        },
        {
          "output_type": "execute_result",
          "data": {
            "text/plain": [
              "<TimeitResult : 992 µs ± 6.83 µs per loop (mean ± std. dev. of 7 runs, 1000 loops each)>"
            ]
          },
          "metadata": {},
          "execution_count": 55
        }
      ]
    },
    {
      "cell_type": "code",
      "source": [
        "Query_time.append(_.average)"
      ],
      "metadata": {
        "id": "jO2LD9u_xwRF"
      },
      "execution_count": null,
      "outputs": []
    },
    {
      "cell_type": "code",
      "source": [
        "v = labels\n",
        "acc = [v[_]==y_test2[_] for _ in range(len(v))]\n",
        "acc = np.sum(np.array(acc))/len(acc)\n",
        "print(f\"accuracy: {acc}\")"
      ],
      "metadata": {
        "colab": {
          "base_uri": "https://localhost:8080/"
        },
        "outputId": "397a1955-a83f-4202-b847-63856dd250d8",
        "id": "Vs1tMn8Hxxiu"
      },
      "execution_count": null,
      "outputs": [
        {
          "output_type": "stream",
          "name": "stdout",
          "text": [
            "accuracy: 0.9288\n"
          ]
        }
      ]
    },
    {
      "cell_type": "code",
      "source": [
        "Accuracy.append(acc)"
      ],
      "metadata": {
        "id": "AcYDK-hsCy0W"
      },
      "execution_count": null,
      "outputs": []
    },
    {
      "cell_type": "markdown",
      "source": [
        "## Train, test 3 (15000, 2500)"
      ],
      "metadata": {
        "id": "9gNmqWK8yGZT"
      }
    },
    {
      "cell_type": "code",
      "source": [
        "%%timeit -o\n",
        "p = hnswlib.Index(space = 'l2', dim = 10)\n",
        "p.init_index(max_elements = 60000, M = 16, ef_construction = 500, random_seed = 100, allow_replace_deleted = False)\n",
        "p.set_ef(50)\n",
        "p.set_num_threads(4)\n",
        "p.add_items(vector_train3, y_train3)"
      ],
      "metadata": {
        "id": "oMwEmHuLyMsu",
        "colab": {
          "base_uri": "https://localhost:8080/"
        },
        "outputId": "9c066f5b-5e33-4eeb-a9d4-81f84a76967a"
      },
      "execution_count": null,
      "outputs": [
        {
          "output_type": "stream",
          "name": "stdout",
          "text": [
            "109 ms ± 18.8 ms per loop (mean ± std. dev. of 7 runs, 10 loops each)\n"
          ]
        },
        {
          "output_type": "execute_result",
          "data": {
            "text/plain": [
              "<TimeitResult : 109 ms ± 18.8 ms per loop (mean ± std. dev. of 7 runs, 10 loops each)>"
            ]
          },
          "metadata": {},
          "execution_count": 58
        }
      ]
    },
    {
      "cell_type": "code",
      "source": [
        "Build_time.append(_.average)"
      ],
      "metadata": {
        "id": "ComBMLY4yN5L"
      },
      "execution_count": null,
      "outputs": []
    },
    {
      "cell_type": "code",
      "source": [
        "%%timeit -o\n",
        "labels, distances = p.knn_query(vector_test3, k = 1)"
      ],
      "metadata": {
        "id": "GLeeKS5ByPa3",
        "colab": {
          "base_uri": "https://localhost:8080/"
        },
        "outputId": "8a005c0f-774d-4a38-c7ab-04e2a6dbbee1"
      },
      "execution_count": null,
      "outputs": [
        {
          "output_type": "stream",
          "name": "stdout",
          "text": [
            "2.11 ms ± 306 µs per loop (mean ± std. dev. of 7 runs, 1000 loops each)\n"
          ]
        },
        {
          "output_type": "execute_result",
          "data": {
            "text/plain": [
              "<TimeitResult : 2.11 ms ± 306 µs per loop (mean ± std. dev. of 7 runs, 1000 loops each)>"
            ]
          },
          "metadata": {},
          "execution_count": 60
        }
      ]
    },
    {
      "cell_type": "code",
      "source": [
        "Query_time.append(_.average)"
      ],
      "metadata": {
        "id": "B0E1E8B3yQ7K"
      },
      "execution_count": null,
      "outputs": []
    },
    {
      "cell_type": "code",
      "source": [
        "v = labels\n",
        "acc = [v[_]==y_test3[_] for _ in range(len(v))]\n",
        "acc = np.sum(np.array(acc))/len(acc)\n",
        "print(f\"accuracy: {acc}\")"
      ],
      "metadata": {
        "colab": {
          "base_uri": "https://localhost:8080/"
        },
        "outputId": "cacdb16f-df33-4ddb-d81a-d211efafbc03",
        "id": "C1UW3BaTySOe"
      },
      "execution_count": null,
      "outputs": [
        {
          "output_type": "stream",
          "name": "stdout",
          "text": [
            "accuracy: 0.9464\n"
          ]
        }
      ]
    },
    {
      "cell_type": "code",
      "source": [
        "Accuracy.append(acc)"
      ],
      "metadata": {
        "id": "xwetysURC00P"
      },
      "execution_count": null,
      "outputs": []
    },
    {
      "cell_type": "markdown",
      "source": [
        "## Train, test 4 (30000, 5000)"
      ],
      "metadata": {
        "id": "CMthVZNVyWr6"
      }
    },
    {
      "cell_type": "code",
      "source": [
        "%%timeit -o\n",
        "p = hnswlib.Index(space = 'l2', dim = 10)\n",
        "p.init_index(max_elements = 60000, M = 16, ef_construction = 500, random_seed = 100, allow_replace_deleted = False)\n",
        "p.set_ef(50)\n",
        "p.set_num_threads(4)\n",
        "p.add_items(vector_train4, y_train4)"
      ],
      "metadata": {
        "id": "cPsmGE12ybom",
        "colab": {
          "base_uri": "https://localhost:8080/"
        },
        "outputId": "a8148305-13b1-4df5-955c-497bff77e583"
      },
      "execution_count": null,
      "outputs": [
        {
          "output_type": "stream",
          "name": "stdout",
          "text": [
            "250 ms ± 72.6 ms per loop (mean ± std. dev. of 7 runs, 1 loop each)\n"
          ]
        },
        {
          "output_type": "execute_result",
          "data": {
            "text/plain": [
              "<TimeitResult : 250 ms ± 72.6 ms per loop (mean ± std. dev. of 7 runs, 1 loop each)>"
            ]
          },
          "metadata": {},
          "execution_count": 63
        }
      ]
    },
    {
      "cell_type": "code",
      "source": [
        "Build_time.append(_.average)"
      ],
      "metadata": {
        "id": "LZR8tGiAydP9"
      },
      "execution_count": null,
      "outputs": []
    },
    {
      "cell_type": "code",
      "source": [
        "%%timeit -o\n",
        "labels, distances = p.knn_query(vector_test4, k = 1)"
      ],
      "metadata": {
        "id": "kZjru2gLyfQE",
        "colab": {
          "base_uri": "https://localhost:8080/"
        },
        "outputId": "b8f00b4a-1ae5-4076-f137-2ddf6bbe76f5"
      },
      "execution_count": null,
      "outputs": [
        {
          "output_type": "stream",
          "name": "stdout",
          "text": [
            "4.95 ms ± 1.32 ms per loop (mean ± std. dev. of 7 runs, 100 loops each)\n"
          ]
        },
        {
          "output_type": "execute_result",
          "data": {
            "text/plain": [
              "<TimeitResult : 4.95 ms ± 1.32 ms per loop (mean ± std. dev. of 7 runs, 100 loops each)>"
            ]
          },
          "metadata": {},
          "execution_count": 65
        }
      ]
    },
    {
      "cell_type": "code",
      "source": [
        "distances.shape"
      ],
      "metadata": {
        "colab": {
          "base_uri": "https://localhost:8080/"
        },
        "id": "zpc8BLuK-zKR",
        "outputId": "a0bbef2d-ef77-4cce-feb0-1b7d5d8926ca"
      },
      "execution_count": null,
      "outputs": [
        {
          "output_type": "execute_result",
          "data": {
            "text/plain": [
              "(5000, 1)"
            ]
          },
          "metadata": {},
          "execution_count": 229
        }
      ]
    },
    {
      "cell_type": "code",
      "source": [
        "labels.shape"
      ],
      "metadata": {
        "colab": {
          "base_uri": "https://localhost:8080/"
        },
        "id": "-FqeagX39aNK",
        "outputId": "93121bad-b4e5-49dd-f69c-c54d4a83b82d"
      },
      "execution_count": null,
      "outputs": [
        {
          "output_type": "execute_result",
          "data": {
            "text/plain": [
              "(5000, 1)"
            ]
          },
          "metadata": {},
          "execution_count": 246
        }
      ]
    },
    {
      "cell_type": "code",
      "source": [
        "Query_time.append(_.average)"
      ],
      "metadata": {
        "id": "evTN-t5Fygyg"
      },
      "execution_count": null,
      "outputs": []
    },
    {
      "cell_type": "code",
      "source": [
        "v = labels\n",
        "acc = [v[_]==y_test4[_] for _ in range(len(v))]\n",
        "acc = np.sum(np.array(acc))/len(acc)\n",
        "print(f\"accuracy: {acc}\")"
      ],
      "metadata": {
        "colab": {
          "base_uri": "https://localhost:8080/"
        },
        "outputId": "2ed469a5-b4c5-4eb1-ce6c-3e9ad9c1dc74",
        "id": "LjjeiCohyiPF"
      },
      "execution_count": null,
      "outputs": [
        {
          "output_type": "stream",
          "name": "stdout",
          "text": [
            "accuracy: 0.874\n"
          ]
        }
      ]
    },
    {
      "cell_type": "code",
      "source": [
        "Accuracy.append(acc)"
      ],
      "metadata": {
        "id": "ZvqWrgxaC2bb"
      },
      "execution_count": null,
      "outputs": []
    },
    {
      "cell_type": "markdown",
      "source": [
        "## Train, test 5 (60000, 10000)"
      ],
      "metadata": {
        "id": "anlTWuT7yjsA"
      }
    },
    {
      "cell_type": "code",
      "source": [
        "%%timeit -o\n",
        "p = hnswlib.Index(space = 'l2', dim = 10)\n",
        "p.init_index(max_elements = 60000, M = 16, ef_construction = 500, random_seed = 100, allow_replace_deleted = False)\n",
        "p.set_ef(50)\n",
        "p.set_num_threads(4)\n",
        "p.add_items(vector_train5, y_train)"
      ],
      "metadata": {
        "id": "nUEWq9shyoA2",
        "colab": {
          "base_uri": "https://localhost:8080/"
        },
        "outputId": "9ba639b7-ad6d-4e64-f720-422a524ed30c"
      },
      "execution_count": null,
      "outputs": [
        {
          "output_type": "stream",
          "name": "stdout",
          "text": [
            "547 ms ± 139 ms per loop (mean ± std. dev. of 7 runs, 1 loop each)\n"
          ]
        },
        {
          "output_type": "execute_result",
          "data": {
            "text/plain": [
              "<TimeitResult : 547 ms ± 139 ms per loop (mean ± std. dev. of 7 runs, 1 loop each)>"
            ]
          },
          "metadata": {},
          "execution_count": 68
        }
      ]
    },
    {
      "cell_type": "code",
      "source": [
        "Build_time.append(_.average)"
      ],
      "metadata": {
        "id": "1fAwHg8LypcC"
      },
      "execution_count": null,
      "outputs": []
    },
    {
      "cell_type": "code",
      "source": [
        "%%timeit -o\n",
        "labels, distances = p.knn_query(vector_test5, k = 1)\n"
      ],
      "metadata": {
        "id": "yGc-gOkvyqtS",
        "colab": {
          "base_uri": "https://localhost:8080/"
        },
        "outputId": "7db2f245-4cf0-43ad-8e50-629c2fe1c37b"
      },
      "execution_count": null,
      "outputs": [
        {
          "output_type": "stream",
          "name": "stdout",
          "text": [
            "7.14 ms ± 72 µs per loop (mean ± std. dev. of 7 runs, 100 loops each)\n"
          ]
        },
        {
          "output_type": "execute_result",
          "data": {
            "text/plain": [
              "<TimeitResult : 7.14 ms ± 72 µs per loop (mean ± std. dev. of 7 runs, 100 loops each)>"
            ]
          },
          "metadata": {},
          "execution_count": 70
        }
      ]
    },
    {
      "cell_type": "code",
      "source": [
        "Query_time.append(_.average)"
      ],
      "metadata": {
        "id": "ErXmlxdiysUb"
      },
      "execution_count": null,
      "outputs": []
    },
    {
      "cell_type": "code",
      "source": [
        "v = labels\n",
        "acc = [v[_]==y_test[_] for _ in range(len(v))]\n",
        "acc = np.sum(np.array(acc))/len(acc)\n",
        "print(f\"accuracy: {acc}\")"
      ],
      "metadata": {
        "colab": {
          "base_uri": "https://localhost:8080/"
        },
        "outputId": "6023bed2-333c-4005-e3b8-709857ff8352",
        "id": "X-O2UUuHyuTa"
      },
      "execution_count": null,
      "outputs": [
        {
          "output_type": "stream",
          "name": "stdout",
          "text": [
            "accuracy: 0.9593\n"
          ]
        }
      ]
    },
    {
      "cell_type": "code",
      "source": [
        "Accuracy.append(acc)"
      ],
      "metadata": {
        "id": "PBv23ZGrC3zN"
      },
      "execution_count": null,
      "outputs": []
    },
    {
      "cell_type": "markdown",
      "source": [
        "## HNSW Performance Evaluation"
      ],
      "metadata": {
        "id": "wZ25qWQo2MHq"
      }
    },
    {
      "cell_type": "code",
      "source": [
        "Query_size"
      ],
      "metadata": {
        "colab": {
          "base_uri": "https://localhost:8080/"
        },
        "id": "uWsetRug3TPq",
        "outputId": "7ade38f4-120c-49e0-c7ab-050dbb187165"
      },
      "execution_count": null,
      "outputs": [
        {
          "output_type": "execute_result",
          "data": {
            "text/plain": [
              "[625, 1250, 2500, 5000, 10000]"
            ]
          },
          "metadata": {},
          "execution_count": 186
        }
      ]
    },
    {
      "cell_type": "code",
      "source": [
        "Build_time"
      ],
      "metadata": {
        "id": "9-X11nXf1xW-",
        "outputId": "f253268b-cc84-4cb0-b88a-a223b22d3c4c",
        "colab": {
          "base_uri": "https://localhost:8080/"
        }
      },
      "execution_count": null,
      "outputs": [
        {
          "output_type": "execute_result",
          "data": {
            "text/plain": [
              "[0.0297226569714277,\n",
              " 0.04961749099999711,\n",
              " 0.10879741684285753,\n",
              " 0.2503989297142977,\n",
              " 0.5468805730000342]"
            ]
          },
          "metadata": {},
          "execution_count": 73
        }
      ]
    },
    {
      "cell_type": "code",
      "source": [
        "Query_time"
      ],
      "metadata": {
        "colab": {
          "base_uri": "https://localhost:8080/"
        },
        "id": "f8DxMu9I3W4Z",
        "outputId": "7b1f4505-2202-4520-d69e-435d6d72a9ec"
      },
      "execution_count": null,
      "outputs": [
        {
          "output_type": "execute_result",
          "data": {
            "text/plain": [
              "[0.0006144502388571595,\n",
              " 0.0009920559821428826,\n",
              " 0.0021052383218571357,\n",
              " 0.004948738152857004,\n",
              " 0.007143129118571291]"
            ]
          },
          "metadata": {},
          "execution_count": 72
        }
      ]
    },
    {
      "cell_type": "code",
      "source": [
        "import matplotlib.pyplot as plt\n",
        "\n",
        "plt.plot(Query_size, Query_time)\n",
        "plt.xlabel(\"Query size\")\n",
        "plt.ylabel(\"Query time\")\n",
        "plt.title(\"Query time against query size graph\")\n",
        "plt.show()"
      ],
      "metadata": {
        "colab": {
          "base_uri": "https://localhost:8080/",
          "height": 472
        },
        "id": "xglP6fm-2W-R",
        "outputId": "6a2cbec3-4d18-4da0-dc3e-56d9e1a119a1"
      },
      "execution_count": null,
      "outputs": [
        {
          "output_type": "display_data",
          "data": {
            "text/plain": [
              "<Figure size 640x480 with 1 Axes>"
            ],
            "image/png": "[encoded data removed]"
          },
          "metadata": {}
        }
      ]
    },
    {
      "cell_type": "code",
      "source": [
        "plt.plot(Build_size, Build_time)\n",
        "plt.xlabel(\"Build size\")\n",
        "plt.ylabel(\"Build time\")\n",
        "plt.title(\"Build time against Build size graph\")\n",
        "plt.show()"
      ],
      "metadata": {
        "colab": {
          "base_uri": "https://localhost:8080/",
          "height": 472
        },
        "id": "e9rz4oNP5VIC",
        "outputId": "c0a8d654-c104-4c84-f7b5-f07559f78707"
      },
      "execution_count": null,
      "outputs": [
        {
          "output_type": "display_data",
          "data": {
            "text/plain": [
              "<Figure size 640x480 with 1 Axes>"
            ],
            "image/png": "[encoded data removed]"
          },
          "metadata": {}
        }
      ]
    },
    {
      "cell_type": "code",
      "source": [
        "plt.plot(Build_size, Accuracy)\n",
        "plt.xlabel(\"Build size\")\n",
        "plt.ylabel(\"Accuracy\")\n",
        "plt.title(\"Accuracy against Build size graph\")\n",
        "plt.show()"
      ],
      "metadata": {
        "colab": {
          "base_uri": "https://localhost:8080/",
          "height": 472
        },
        "id": "kJ_gu70K5Xqh",
        "outputId": "0217e571-577f-45d7-be50-cf60f9d6f839"
      },
      "execution_count": null,
      "outputs": [
        {
          "output_type": "display_data",
          "data": {
            "text/plain": [
              "<Figure size 640x480 with 1 Axes>"
            ],
            "image/png": "[encoded data removed]"
          },
          "metadata": {}
        }
      ]
    },
    {
      "cell_type": "markdown",
      "source": [
        "# NSW"
      ],
      "metadata": {
        "id": "B68BlQUTFCBa"
      }
    },
    {
      "cell_type": "code",
      "source": [
        "Build_size = [3750, 6250, 15000, 30000, 60000]\n",
        "Query_size = [625, 1250, 2500, 5000, 10000]\n",
        "Build_time = []\n",
        "Query_time = []\n",
        "Accuracy = []"
      ],
      "metadata": {
        "id": "pdBJ1DYEFIJL"
      },
      "execution_count": null,
      "outputs": []
    },
    {
      "cell_type": "code",
      "source": [
        "import nsw"
      ],
      "metadata": {
        "colab": {
          "base_uri": "https://localhost:8080/",
          "height": 314
        },
        "id": "6jJuS-m3HZIt",
        "outputId": "6a28d1b2-3da9-4b71-815a-fd08fcb2356f"
      },
      "execution_count": null,
      "outputs": [
        {
          "output_type": "error",
          "ename": "ModuleNotFoundError",
          "evalue": "ignored",
          "traceback": [
            "\u001b[0;31m---------------------------------------------------------------------------\u001b[0m",
            "\u001b[0;31mModuleNotFoundError\u001b[0m                       Traceback (most recent call last)",
            "\u001b[0;32m<ipython-input-292-2d4a3821979a>\u001b[0m in \u001b[0;36m<cell line: 1>\u001b[0;34m()\u001b[0m\n\u001b[0;32m----> 1\u001b[0;31m \u001b[0;32mimport\u001b[0m \u001b[0mnsw\u001b[0m\u001b[0;34m\u001b[0m\u001b[0;34m\u001b[0m\u001b[0m\n\u001b[0m",
            "\u001b[0;31mModuleNotFoundError\u001b[0m: No module named 'nsw'",
            "",
            "\u001b[0;31m---------------------------------------------------------------------------\u001b[0;32m\nNOTE: If your import is failing due to a missing package, you can\nmanually install dependencies using either !pip or !apt.\n\nTo view examples of installing some common dependencies, click the\n\"Open Examples\" button below.\n\u001b[0;31m---------------------------------------------------------------------------\u001b[0m\n"
          ],
          "errorDetails": {
            "actions": [
              {
                "action": "open_url",
                "actionText": "Open Examples",
                "url": "/notebooks/snippets/importing_libraries.ipynb"
              }
            ]
          }
        }
      ]
    }
  ]
}